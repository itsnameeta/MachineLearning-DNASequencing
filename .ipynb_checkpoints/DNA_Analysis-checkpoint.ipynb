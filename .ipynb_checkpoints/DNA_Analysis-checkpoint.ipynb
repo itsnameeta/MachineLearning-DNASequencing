{
 "cells": [
  {
   "cell_type": "markdown",
   "metadata": {},
   "source": [
    "DNA Sequencing with Machine Learning \n",
    "\n",
    "- A genome is a complete collection of DNA in an organism, and human genome has about 6 billion characters or letters. If you think the genome(the complete DNA sequence) is like a book, it is a book about 6 billion letters of “A”, “C”, “G” and “T”. Everyone has a unique genome. \n",
    "- Genomics extensively utilizes machine learning to capture dependencies in data and infer new biological hypotheses.\n",
    "- Potential to extract new insights from the exponentially increasing volume of genomics data requires powerful machine learning models.\n",
    "- In this project, I have explored the structure of human genomes/ DNA samples and how machine learning algorithms can be used to build a prediction model on DNA sequence data for Humans and applied the same to test precision on Chimpanzee DNA data."
   ]
  },
  {
   "cell_type": "markdown",
   "metadata": {},
   "source": [
    "DNA raw data processing using Biopython\n",
    "\n",
    "Steps: \n",
    "1. Read DNA sequence in fasta format using Biopython. The sequence object will sequence and length of the sequence\n",
    "2. Used Bio.SeqIO from Biopython for parsing DNA sequence data(fasta). "
   ]
  },
  {
   "cell_type": "code",
   "execution_count": 34,
   "metadata": {
    "executionInfo": {
     "elapsed": 380,
     "status": "ok",
     "timestamp": 1643002669343,
     "user": {
      "displayName": "namita sahoo",
      "photoUrl": "https://lh3.googleusercontent.com/a-/AOh14Gj6JN0m8Ir6zZzkH5--lc5YjaEpuFgvf7YkwsgDIQ=s64",
      "userId": "11240423944601401601"
     },
     "user_tz": -660
    },
    "id": "Vii4Z570j1Bv"
   },
   "outputs": [
    {
     "name": "stdout",
     "output_type": "stream",
     "text": [
      "4D2I_1|Chains\n",
      "MIIGYVIGQATTQEALILAERPVRLGTYVVLEYDNVKALGLITNVTRGSPLLDDNMNDIEIVQRLKQFNNSIPVYTKAKVKLLCDMNNHFLMPDIPPFAGTPAREAEDEELKSIYSQDGQIRIGSLIGKNVEVKLNINSFARHLAILAATGSGKSNTVAVLSQRISELGGSVLIFDYHGEYYDSDIKNLNRIEPKLNPLYMTPREFSTLLEIRENAIIQYRILRRAFIKVTNGIRAALAAGQIPFSTLNSQFYELMADALETQGNSDKKSSAKDEVLNKFEEFMDRYSNVIDLTSSDIIEKVKRGKVNVVSLTQLDEDSMDAVVSHYLRRILDSRKDFKRSKNSGLKFPIIAVIEEAHVFLSKNENTLTKYWASRIAREGRKFGVGLTIVSQRPKGLDENILSQMTNKIILKIIEPTDKKYILESSDNLSEDLAEQLSSLDVGEAIIIGKIVKLPAVVKIDMFEGKLLGSDPDMIGEWKKVAASEKIAKGFADFGTEIGD\n",
      "500\n"
     ]
    }
   ],
   "source": [
    "from Bio import SeqIO\n",
    "for sequence in SeqIO.parse('Data/rcsb_pdb_4D2I.fasta', \"fasta\"):\n",
    "    print(sequence.id)\n",
    "    print(sequence.seq)\n",
    "    print(len(sequence))"
   ]
  },
  {
   "cell_type": "markdown",
   "metadata": {},
   "source": [
    "Machine learning or deep learning models need the input as feature matrices or numerical values.\n",
    "So we need to encode these characters/ string data into matrices. \n",
    "\n",
    "Some approaches to encode DNA sequence data:\n",
    "1. Ordinal encoding DNA Sequence\n",
    "2. One-hot encoding DNA Sequence\n",
    "3. DNA sequence as a “language”, known as k-mer counting\n",
    "\n",
    "Below steps checks which of the approaches gives us the workable input features."
   ]
  },
  {
   "cell_type": "markdown",
   "metadata": {},
   "source": [
    "Approach 1: Ordinal encoding DNA sequence data\n",
    "\n",
    "1. To encode each nitrogen bases as ordinals; “ATGC” becomes [0.25, 0.5, 0.75, 1.0]. “N” can be a 0. \n",
    "2. Creating a NumPy array object and a label encoder with the DNA sequence alphabet “a”, “c”, “g” and “t”, “n”."
   ]
  },
  {
   "cell_type": "code",
   "execution_count": 35,
   "metadata": {
    "executionInfo": {
     "elapsed": 400,
     "status": "ok",
     "timestamp": 1643002672033,
     "user": {
      "displayName": "namita sahoo",
      "photoUrl": "https://lh3.googleusercontent.com/a-/AOh14Gj6JN0m8Ir6zZzkH5--lc5YjaEpuFgvf7YkwsgDIQ=s64",
      "userId": "11240423944601401601"
     },
     "user_tz": -660
    },
    "id": "NAJJZ_iLkId8"
   },
   "outputs": [
    {
     "data": {
      "text/plain": [
       "LabelEncoder()"
      ]
     },
     "execution_count": 35,
     "metadata": {},
     "output_type": "execute_result"
    }
   ],
   "source": [
    "import numpy as np\n",
    "import re\n",
    "\n",
    "def string_array(seq_str):\n",
    "   seq_str = seq_str.lower()\n",
    "   seq_str = re.sub('[^acgt]', 'n', seq_str)\n",
    "   seq_str = np.array(list(seq_str))\n",
    "   return seq_str\n",
    "\n",
    "# create a label encoder with 'acgtn' alphabet\n",
    "from sklearn.preprocessing import LabelEncoder\n",
    "label_enc = LabelEncoder()\n",
    "label_enc.fit(np.array(['a','c','g','t','z']))"
   ]
  },
  {
   "cell_type": "code",
   "execution_count": 36,
   "metadata": {
    "colab": {
     "base_uri": "https://localhost:8080/",
     "height": 317
    },
    "executionInfo": {
     "elapsed": 406,
     "status": "error",
     "timestamp": 1643002516177,
     "user": {
      "displayName": "namita sahoo",
      "photoUrl": "https://lh3.googleusercontent.com/a-/AOh14Gj6JN0m8Ir6zZzkH5--lc5YjaEpuFgvf7YkwsgDIQ=s64",
      "userId": "11240423944601401601"
     },
     "user_tz": -660
    },
    "id": "j0x60eDgkpgf",
    "outputId": "db788a88-793b-4962-f1c6-57336341d763"
   },
   "outputs": [
    {
     "data": {
      "text/plain": [
       "array([1.  , 1.  , 0.5 , 0.25, 0.75, 0.5 , 0.5 , 0.25, 0.75, 1.  , 0.75])"
      ]
     },
     "execution_count": 36,
     "metadata": {},
     "output_type": "execute_result"
    }
   ],
   "source": [
    "#Define function to encode a DNA sequence string as an ordinal vector which returns a NumPy array \n",
    "# With A=0.25, C=0.50, G=0.75, T=1.00, n=0.00.\n",
    "\n",
    "def ord_enc(array):\n",
    "    int_enc = label_enc.transform(array)\n",
    "    float_enc = int_enc.astype(float)\n",
    "    float_enc [float_enc  == 0] = 0.25 # A\n",
    "    float_enc [float_enc  == 1] = 0.50 # C\n",
    "    float_enc [float_enc  == 2] = 0.75 # G\n",
    "    float_enc [float_enc  == 3] = 1.00 # T\n",
    "    float_enc [float_enc  == 4] = 0.00 # anything else, lets say n\n",
    "    return float_enc \n",
    "\n",
    "\n",
    "#Let’s try it out a simple short sequence:\n",
    "seq_test = 'TTCAGCCAGTG'\n",
    "ord_enc(string_array(seq_test))"
   ]
  },
  {
   "cell_type": "markdown",
   "metadata": {},
   "source": [
    "Approach 2: One-hot encoding DNA Sequence\n",
    "\n",
    "1. Applied to algorithms such as convolutional neural networks. “ATGC” would become [0,0,0,1], [0,0,1,0], [0,1,0,0], [1,0,0,0]. \n",
    "2. So the one-hot encoded vectors can either be concatenated or turned into 2D arrays."
   ]
  },
  {
   "cell_type": "code",
   "execution_count": 37,
   "metadata": {},
   "outputs": [
    {
     "data": {
      "text/plain": [
       "array([[0, 1, 0],\n",
       "       [0, 0, 1],\n",
       "       [0, 0, 0],\n",
       "       [0, 0, 0],\n",
       "       [0, 0, 0],\n",
       "       [0, 1, 0],\n",
       "       [1, 0, 0],\n",
       "       [0, 0, 1],\n",
       "       [0, 0, 0],\n",
       "       [0, 1, 0],\n",
       "       [0, 0, 1],\n",
       "       [0, 1, 0],\n",
       "       [0, 1, 0]])"
      ]
     },
     "execution_count": 37,
     "metadata": {},
     "output_type": "execute_result"
    }
   ],
   "source": [
    "from sklearn.preprocessing import OneHotEncoder\n",
    "def oh_enc(seq_str):\n",
    "    int_enc = label_enc.transform(seq_str)\n",
    "    oh_enc = OneHotEncoder(sparse=False, dtype=int)\n",
    "    int_enc = int_enc.reshape(len(int_enc), 1)\n",
    "    oh_enc = oh_enc.fit_transform(int_enc)\n",
    "    oh_enc = np.delete(oh_enc, -1, 1)\n",
    "    return oh_enc\n",
    "\n",
    "seq_test = 'CGTTTCAGTCGCC'\n",
    "oh_enc(string_array(seq_test))"
   ]
  },
  {
   "cell_type": "markdown",
   "metadata": {},
   "source": [
    "Limitations:  \n",
    "1. Above approaches doesn't give vectors of uniform length required as input for classification or regression algorithms. \n",
    "2. Truncating sequences or padding with “n” or “0” is required for vectors of uniform length."
   ]
  },
  {
   "cell_type": "markdown",
   "metadata": {},
   "source": [
    "Approach 3: k-mer counting\n",
    "\n",
    "1. DNA is the language of life, and encoding this DNA language showcases instructions, functions for molecules in organisms\n",
    "2. Natural language processing(NLP) is applied to encode the natural language of DNA and protein sequences.\n",
    "3. Approach is to take the DNA sequences and break into k-mer length overlapping “words”.  \n",
    "4. In genomics, this approach is called “k-mer counting”, or counting the occurrences of each possible k-mer sequence using NLP (Python natural language processing) tools.\n"
   ]
  },
  {
   "cell_type": "code",
   "execution_count": 38,
   "metadata": {},
   "outputs": [
    {
     "data": {
      "text/plain": [
       "['gttaagcc',\n",
       " 'ttaagcct',\n",
       " 'taagcctt',\n",
       " 'aagccttc',\n",
       " 'agccttcc',\n",
       " 'gccttcca',\n",
       " 'ccttccag',\n",
       " 'cttccagc',\n",
       " 'ttccagct',\n",
       " 'tccagcta',\n",
       " 'ccagctag',\n",
       " 'cagctagt',\n",
       " 'agctagtg',\n",
       " 'gctagtga',\n",
       " 'ctagtgac',\n",
       " 'tagtgacg',\n",
       " 'agtgacga',\n",
       " 'gtgacgac',\n",
       " 'tgacgact',\n",
       " 'gacgactg',\n",
       " 'acgactgc',\n",
       " 'cgactgca']"
      ]
     },
     "execution_count": 38,
     "metadata": {},
     "output_type": "execute_result"
    }
   ],
   "source": [
    "# BELOW FUNCTION returns a list of k-mer “words” and then can be joined into a “sentence”. \n",
    "def Kmers(seq, size):\n",
    "    return [seq[x: x+size].lower() for x in range(len(seq) - size + 1)]\n",
    "seq = 'GTTAAGCCTTCCAGCTAGTGACGACTGCA'\n",
    "Kmers(seq, size=8)"
   ]
  },
  {
   "cell_type": "code",
   "execution_count": 39,
   "metadata": {},
   "outputs": [
    {
     "data": {
      "text/plain": [
       "array([[0, 0, 1, 0, 0, 1, 0, 0, 1, 0, 1, 1, 1, 0, 0, 0, 0, 0, 0, 0, 1, 0,\n",
       "        1, 0, 1, 1, 0, 0, 1, 0, 1, 1, 1, 0, 1, 1, 0, 0, 0, 0, 1, 1, 0, 0,\n",
       "        1, 0, 0, 0, 1, 0, 0, 0, 1, 0, 1, 0, 0, 1, 0, 1],\n",
       "       [1, 1, 0, 0, 0, 0, 0, 1, 0, 1, 0, 0, 0, 0, 0, 0, 1, 1, 0, 0, 0, 1,\n",
       "        0, 1, 0, 0, 0, 1, 0, 1, 0, 0, 0, 1, 0, 0, 1, 1, 0, 0, 0, 0, 0, 1,\n",
       "        0, 0, 0, 1, 0, 0, 0, 0, 0, 1, 0, 1, 1, 0, 0, 0],\n",
       "       [0, 0, 0, 1, 1, 0, 1, 0, 0, 0, 0, 0, 0, 1, 1, 1, 0, 0, 1, 1, 0, 0,\n",
       "        0, 0, 0, 0, 1, 0, 0, 0, 0, 0, 0, 0, 0, 0, 0, 0, 1, 1, 0, 0, 1, 0,\n",
       "        0, 1, 1, 0, 0, 1, 1, 1, 0, 0, 0, 0, 0, 0, 1, 0]])"
      ]
     },
     "execution_count": 39,
     "metadata": {},
     "output_type": "execute_result"
    }
   ],
   "source": [
    "words = Kmers(seq, size=6)\n",
    "join = ' '.join(words)\n",
    "\n",
    "Seq1 = 'ATCCTAGCATGGCTTAAACGGTCCA'\n",
    "Seq2 = 'TCAAGTTACGGTAATATATTAGGCA'\n",
    "Sen1 = ' '.join(Kmers(Seq1, size=8))\n",
    "Sen2 = ' '.join(Kmers(Seq2, size=8))\n",
    "\n",
    "from sklearn.feature_extraction.text import CountVectorizer #Create Words model\n",
    "cv = CountVectorizer()\n",
    "X = cv.fit_transform([join, Sen1, Sen2]).toarray()\n",
    "\n",
    "X #vectorized dataset"
   ]
  },
  {
   "cell_type": "markdown",
   "metadata": {},
   "source": [
    "Final Objective: \n",
    "\n",
    "1. Build classification model that is trained on dataset of human DNA sequences \n",
    "2. NB Classification Model predicts a gene family based on the DNA sequence of the coding sequence. \n",
    "3. To test the model, datasets with humans and chimpanzee DNA sequences are used \n",
    "4. Finally, accuracies are compared"
   ]
  },
  {
   "attachments": {
    "image.png": {
     "image/png": "[encoded data removed]"
    }
   },
   "cell_type": "markdown",
   "metadata": {},
   "source": [
    "7 families of Human Genes classified into 0-6 labels![image.png](attachment:image.png) "
   ]
  },
  {
   "cell_type": "code",
   "execution_count": 40,
   "metadata": {},
   "outputs": [],
   "source": [
    "import numpy as np  \n",
    "import pandas as pd  \n",
    "import os\n",
    "import matplotlib.pyplot as plt\n",
    "%matplotlib inline"
   ]
  },
  {
   "cell_type": "code",
   "execution_count": 41,
   "metadata": {},
   "outputs": [
    {
     "data": {
      "text/html": [
       "<div>\n",
       "<style scoped>\n",
       "    .dataframe tbody tr th:only-of-type {\n",
       "        vertical-align: middle;\n",
       "    }\n",
       "\n",
       "    .dataframe tbody tr th {\n",
       "        vertical-align: top;\n",
       "    }\n",
       "\n",
       "    .dataframe thead th {\n",
       "        text-align: right;\n",
       "    }\n",
       "</style>\n",
       "<table border=\"1\" class=\"dataframe\">\n",
       "  <thead>\n",
       "    <tr style=\"text-align: right;\">\n",
       "      <th></th>\n",
       "      <th>sequence</th>\n",
       "      <th>class</th>\n",
       "    </tr>\n",
       "  </thead>\n",
       "  <tbody>\n",
       "    <tr>\n",
       "      <th>0</th>\n",
       "      <td>ATGCCCCAACTAAATACTACCGTATGGCCCACCATAATTACCCCCA...</td>\n",
       "      <td>4</td>\n",
       "    </tr>\n",
       "    <tr>\n",
       "      <th>1</th>\n",
       "      <td>ATGAACGAAAATCTGTTCGCTTCATTCATTGCCCCCACAATCCTAG...</td>\n",
       "      <td>4</td>\n",
       "    </tr>\n",
       "    <tr>\n",
       "      <th>2</th>\n",
       "      <td>ATGTGTGGCATTTGGGCGCTGTTTGGCAGTGATGATTGCCTTTCTG...</td>\n",
       "      <td>3</td>\n",
       "    </tr>\n",
       "    <tr>\n",
       "      <th>3</th>\n",
       "      <td>ATGTGTGGCATTTGGGCGCTGTTTGGCAGTGATGATTGCCTTTCTG...</td>\n",
       "      <td>3</td>\n",
       "    </tr>\n",
       "    <tr>\n",
       "      <th>4</th>\n",
       "      <td>ATGCAACAGCATTTTGAATTTGAATACCAGACCAAAGTGGATGGTG...</td>\n",
       "      <td>3</td>\n",
       "    </tr>\n",
       "  </tbody>\n",
       "</table>\n",
       "</div>"
      ],
      "text/plain": [
       "                                            sequence  class\n",
       "0  ATGCCCCAACTAAATACTACCGTATGGCCCACCATAATTACCCCCA...      4\n",
       "1  ATGAACGAAAATCTGTTCGCTTCATTCATTGCCCCCACAATCCTAG...      4\n",
       "2  ATGTGTGGCATTTGGGCGCTGTTTGGCAGTGATGATTGCCTTTCTG...      3\n",
       "3  ATGTGTGGCATTTGGGCGCTGTTTGGCAGTGATGATTGCCTTTCTG...      3\n",
       "4  ATGCAACAGCATTTTGAATTTGAATACCAGACCAAAGTGGATGGTG...      3"
      ]
     },
     "execution_count": 41,
     "metadata": {},
     "output_type": "execute_result"
    }
   ],
   "source": [
    "humansDNA = pd.read_table('Data/human_data.txt')\n",
    "humansDNA.head()"
   ]
  },
  {
   "cell_type": "code",
   "execution_count": 42,
   "metadata": {},
   "outputs": [
    {
     "data": {
      "text/plain": [
       "Text(0.5, 1.0, 'Class Distribution of Human DNA')"
      ]
     },
     "execution_count": 42,
     "metadata": {},
     "output_type": "execute_result"
    },
    {
     "data": {
      "image/png": "[encoded data removed]",
      "text/plain": [
       "<Figure size 432x288 with 1 Axes>"
      ]
     },
     "metadata": {
      "needs_background": "light"
     },
     "output_type": "display_data"
    }
   ],
   "source": [
    "humansDNA['class'].value_counts().sort_index().plot.bar()\n",
    "plt.title(\"Class Distribution of Human DNA\")"
   ]
  },
  {
   "cell_type": "code",
   "execution_count": 43,
   "metadata": {},
   "outputs": [
    {
     "data": {
      "text/html": [
       "<div>\n",
       "<style scoped>\n",
       "    .dataframe tbody tr th:only-of-type {\n",
       "        vertical-align: middle;\n",
       "    }\n",
       "\n",
       "    .dataframe tbody tr th {\n",
       "        vertical-align: top;\n",
       "    }\n",
       "\n",
       "    .dataframe thead th {\n",
       "        text-align: right;\n",
       "    }\n",
       "</style>\n",
       "<table border=\"1\" class=\"dataframe\">\n",
       "  <thead>\n",
       "    <tr style=\"text-align: right;\">\n",
       "      <th></th>\n",
       "      <th>sequence</th>\n",
       "      <th>class</th>\n",
       "    </tr>\n",
       "  </thead>\n",
       "  <tbody>\n",
       "    <tr>\n",
       "      <th>0</th>\n",
       "      <td>ATGCCCCAACTAAATACCGCCGTATGACCCACCATAATTACCCCCA...</td>\n",
       "      <td>4</td>\n",
       "    </tr>\n",
       "    <tr>\n",
       "      <th>1</th>\n",
       "      <td>ATGAACGAAAATCTATTCGCTTCATTCGCTGCCCCCACAATCCTAG...</td>\n",
       "      <td>4</td>\n",
       "    </tr>\n",
       "    <tr>\n",
       "      <th>2</th>\n",
       "      <td>ATGGCCTCGCGCTGGTGGCGGTGGCGACGCGGCTGCTCCTGGAGGC...</td>\n",
       "      <td>4</td>\n",
       "    </tr>\n",
       "    <tr>\n",
       "      <th>3</th>\n",
       "      <td>ATGGCCTCGCGCTGGTGGCGGTGGCGACGCGGCTGCTCCTGGAGGC...</td>\n",
       "      <td>4</td>\n",
       "    </tr>\n",
       "    <tr>\n",
       "      <th>4</th>\n",
       "      <td>ATGGGCAGCGCCAGCCCGGGTCTGAGCAGCGTGTCCCCCAGCCACC...</td>\n",
       "      <td>6</td>\n",
       "    </tr>\n",
       "  </tbody>\n",
       "</table>\n",
       "</div>"
      ],
      "text/plain": [
       "                                            sequence  class\n",
       "0  ATGCCCCAACTAAATACCGCCGTATGACCCACCATAATTACCCCCA...      4\n",
       "1  ATGAACGAAAATCTATTCGCTTCATTCGCTGCCCCCACAATCCTAG...      4\n",
       "2  ATGGCCTCGCGCTGGTGGCGGTGGCGACGCGGCTGCTCCTGGAGGC...      4\n",
       "3  ATGGCCTCGCGCTGGTGGCGGTGGCGACGCGGCTGCTCCTGGAGGC...      4\n",
       "4  ATGGGCAGCGCCAGCCCGGGTCTGAGCAGCGTGTCCCCCAGCCACC...      6"
      ]
     },
     "execution_count": 43,
     "metadata": {},
     "output_type": "execute_result"
    }
   ],
   "source": [
    "#Load chimpanzee DNA dataset for classification\n",
    "chimpDNA = pd.read_table('Data/chimp_data.txt')\n",
    "chimpDNA.head()"
   ]
  },
  {
   "cell_type": "code",
   "execution_count": 44,
   "metadata": {},
   "outputs": [
    {
     "data": {
      "text/plain": [
       "Text(0.5, 1.0, 'Class Distribution of Chimpanzee DNA')"
      ]
     },
     "execution_count": 44,
     "metadata": {},
     "output_type": "execute_result"
    },
    {
     "data": {
      "image/png": "[encoded data removed]",
      "text/plain": [
       "<Figure size 432x288 with 1 Axes>"
      ]
     },
     "metadata": {
      "needs_background": "light"
     },
     "output_type": "display_data"
    }
   ],
   "source": [
    "chimpDNA['class'].value_counts().sort_index().plot.bar()\n",
    "plt.title(\"Class Distribution of Chimpanzee DNA\")"
   ]
  },
  {
   "cell_type": "markdown",
   "metadata": {},
   "source": [
    "Next step is to convert a sequence of characters into k-mer words, default size = 8 (octamers). \n",
    "Kmers() will collect all possible overlapping k-mers from any sequence string."
   ]
  },
  {
   "cell_type": "code",
   "execution_count": 45,
   "metadata": {},
   "outputs": [],
   "source": [
    "def Kmers(seq, size=8):\n",
    "    return [seq[x:x+size].lower() for x in range(len(seq) - size + 1)]\n",
    "\n",
    "#convert DNA sequences into short overlapping k-mers \n",
    "humansDNA['words'] = humansDNA.apply(lambda x: Kmers(x['sequence']), axis=1)\n",
    "humansDNA = humansDNA.drop('sequence', axis=1)\n",
    "\n",
    "chimpDNA['words'] = chimpDNA.apply(lambda x: Kmers(x['sequence']), axis=1)\n",
    "chimpDNA = chimpDNA.drop('sequence', axis=1)"
   ]
  },
  {
   "cell_type": "code",
   "execution_count": 46,
   "metadata": {},
   "outputs": [
    {
     "data": {
      "text/html": [
       "<div>\n",
       "<style scoped>\n",
       "    .dataframe tbody tr th:only-of-type {\n",
       "        vertical-align: middle;\n",
       "    }\n",
       "\n",
       "    .dataframe tbody tr th {\n",
       "        vertical-align: top;\n",
       "    }\n",
       "\n",
       "    .dataframe thead th {\n",
       "        text-align: right;\n",
       "    }\n",
       "</style>\n",
       "<table border=\"1\" class=\"dataframe\">\n",
       "  <thead>\n",
       "    <tr style=\"text-align: right;\">\n",
       "      <th></th>\n",
       "      <th>class</th>\n",
       "      <th>words</th>\n",
       "    </tr>\n",
       "  </thead>\n",
       "  <tbody>\n",
       "    <tr>\n",
       "      <th>4375</th>\n",
       "      <td>0</td>\n",
       "      <td>[atggaaga, tggaagat, ggaagatt, gaagattt, aagat...</td>\n",
       "    </tr>\n",
       "    <tr>\n",
       "      <th>4376</th>\n",
       "      <td>6</td>\n",
       "      <td>[atgcagtc, tgcagtcc, gcagtcct, cagtcctt, agtcc...</td>\n",
       "    </tr>\n",
       "    <tr>\n",
       "      <th>4377</th>\n",
       "      <td>6</td>\n",
       "      <td>[atgcagtc, tgcagtcc, gcagtcct, cagtcctt, agtcc...</td>\n",
       "    </tr>\n",
       "    <tr>\n",
       "      <th>4378</th>\n",
       "      <td>6</td>\n",
       "      <td>[atggggca, tggggcac, ggggcacc, gggcacct, ggcac...</td>\n",
       "    </tr>\n",
       "    <tr>\n",
       "      <th>4379</th>\n",
       "      <td>6</td>\n",
       "      <td>[atgcagtc, tgcagtcc, gcagtcct, cagtcctt, agtcc...</td>\n",
       "    </tr>\n",
       "  </tbody>\n",
       "</table>\n",
       "</div>"
      ],
      "text/plain": [
       "      class                                              words\n",
       "4375      0  [atggaaga, tggaagat, ggaagatt, gaagattt, aagat...\n",
       "4376      6  [atgcagtc, tgcagtcc, gcagtcct, cagtcctt, agtcc...\n",
       "4377      6  [atgcagtc, tgcagtcc, gcagtcct, cagtcctt, agtcc...\n",
       "4378      6  [atggggca, tggggcac, ggggcacc, gggcacct, ggcac...\n",
       "4379      6  [atgcagtc, tgcagtcc, gcagtcct, cagtcctt, agtcc..."
      ]
     },
     "execution_count": 46,
     "metadata": {},
     "output_type": "execute_result"
    }
   ],
   "source": [
    "humansDNA.tail()"
   ]
  },
  {
   "cell_type": "markdown",
   "metadata": {},
   "source": [
    "Next step is to convert k-mers for each gene into string sentences of words that can be used to create the Bag of Words model.  "
   ]
  },
  {
   "cell_type": "code",
   "execution_count": 47,
   "metadata": {},
   "outputs": [
    {
     "data": {
      "text/plain": [
       "array([4, 4, 3, ..., 6, 6, 6])"
      ]
     },
     "execution_count": 47,
     "metadata": {},
     "output_type": "execute_result"
    }
   ],
   "source": [
    "humantexts = list(humansDNA['words'])\n",
    "for item in range(len(humantexts)):\n",
    "    humantexts[item] = ' '.join(humantexts[item])\n",
    "yHuman = humansDNA.iloc[:, 0].values # fetching class values from Human DNA dataset\n",
    "\n",
    "chimptexts = list(chimpDNA['words'])\n",
    "for item in range(len(chimptexts)):\n",
    "    chimptexts[item] = ' '.join(chimptexts[item])\n",
    "yChimp = chimpDNA.iloc[:, 0].values  # fetching class values from chimpanzee DNA dataset\n",
    "\n",
    "yHuman"
   ]
  },
  {
   "cell_type": "markdown",
   "metadata": {},
   "source": [
    "Now using CountVectorizer() equivalent to k-mer counting. And convert our k-mer words into uniform length numerical vectors that represent counts for every k-mer in the vocabulary:"
   ]
  },
  {
   "cell_type": "code",
   "execution_count": 48,
   "metadata": {},
   "outputs": [
    {
     "name": "stdout",
     "output_type": "stream",
     "text": [
      "(4380, 1025992)\n",
      "(1682, 1025992)\n"
     ]
    }
   ],
   "source": [
    "from sklearn.feature_extraction.text import CountVectorizer\n",
    "cv = CountVectorizer(ngram_range=(4,4)) #n-gram size of 4 determined by testing  \n",
    "XHuman = cv.fit_transform(humantexts)\n",
    "XChimp = cv.transform(chimptexts)\n",
    "\n",
    "print(XHuman.shape)\n",
    "print(XChimp.shape)"
   ]
  },
  {
   "cell_type": "markdown",
   "metadata": {},
   "source": [
    "1. DNA sequences are transformed into uniform length numerical vectors in the form of k-mer counts and ngrams\n",
    "2. Build a classification model that can predict the DNA sequence function based on the sequence itself.\n",
    "\n",
    "Human data is used to train the model (25% data for testing).\n",
    "Challenge the model’s generalizability by trying to predict sequence function in chimpanzee.\n",
    "Train/test split human dataset and build simple multinomial naive Bayes classifier."
   ]
  },
  {
   "cell_type": "code",
   "execution_count": 49,
   "metadata": {},
   "outputs": [],
   "source": [
    "# Splitting dataset into the training set and test set\n",
    "from sklearn.model_selection import train_test_split\n",
    "X_train, X_test, y_train, y_test = train_test_split(XHuman, yHuman,test_size = 0.25, random_state=42)                                     "
   ]
  },
  {
   "cell_type": "code",
   "execution_count": 50,
   "metadata": {},
   "outputs": [
    {
     "data": {
      "text/plain": [
       "MultinomialNB(alpha=0.1)"
      ]
     },
     "execution_count": 50,
     "metadata": {},
     "output_type": "execute_result"
    }
   ],
   "source": [
    "# build the classifier model using NB multinomial function\n",
    "from sklearn.naive_bayes import MultinomialNB\n",
    "classifier = MultinomialNB(alpha=0.1)\n",
    "classifier.fit(X_train, y_train)"
   ]
  },
  {
   "cell_type": "code",
   "execution_count": 51,
   "metadata": {},
   "outputs": [
    {
     "name": "stdout",
     "output_type": "stream",
     "text": [
      "Predictions matrix on human test DNA sequence\n",
      "\n",
      "Predicted    0    1   2    3    4   5    6\n",
      "Actual                                    \n",
      "0          111    0   0    0    1   9    0\n",
      "1            0  129   0    0    0   2    0\n",
      "2            0    0  92    0    1   0    0\n",
      "3            0    0   0  149    0   1    0\n",
      "4            0    0   0    0  179   5    0\n",
      "5            0    1   0    0    0  64    0\n",
      "6            0    0   0    0    3  19  329\n",
      "Accuracy = 0.96   Precision = 0.97  Recall = 0.96   f1 = 0.96\n"
     ]
    }
   ],
   "source": [
    "# Test predictions on the humans test set and verify model performance metrics\n",
    "y_Prd = classifier.predict(X_test)\n",
    "\n",
    "from sklearn.metrics import accuracy_score, f1_score, precision_score, recall_score\n",
    "\n",
    "print(\"Predictions matrix on human test DNA sequence\\n\")\n",
    "print(pd.crosstab(pd.Series(y_test, name='Actual'), pd.Series(y_Prd, name='Predicted')))\n",
    "\n",
    "def get_metrics(y_test, y_Prd):\n",
    "    accuracy = accuracy_score(y_test, y_Prd)\n",
    "    precision = precision_score(y_test, y_Prd, average='weighted')\n",
    "    recall = recall_score(y_test, y_Prd, average='weighted')\n",
    "    f1 = f1_score(y_test, y_Prd, average='weighted')\n",
    "    return accuracy, precision, recall, f1\n",
    "accuracy, precision, recall, f1 = get_metrics(y_test, y_Prd)\n",
    "\n",
    "print(\"Accuracy = %.2f   Precision = %.2f  Recall = %.2f   f1 = %.2f\" % (accuracy, precision, recall, f1))"
   ]
  },
  {
   "cell_type": "markdown",
   "metadata": {},
   "source": [
    "Am getting nearly precise results from testing, hence our model did not overfit to training data.  "
   ]
  },
  {
   "cell_type": "code",
   "execution_count": 52,
   "metadata": {},
   "outputs": [
    {
     "name": "stdout",
     "output_type": "stream",
     "text": [
      "Predictions matrix on chimp test DNA sequence\n",
      "\n",
      "Predicted    0    1    2    3    4    5    6\n",
      "Actual                                      \n",
      "0          229    0    0    0    1    4    0\n",
      "1            0  184    0    0    0    1    0\n",
      "2            0    0  144    0    0    0    0\n",
      "3            0    0    0  227    0    1    0\n",
      "4            0    0    0    0  252    9    0\n",
      "5            0    0    0    0    0  109    0\n",
      "6            0    0    0    0    4   14  503\n",
      "Accuracy = 0.98   Precision = 0.98  Recall = 0.98   f1 = 0.98\n"
     ]
    }
   ],
   "source": [
    "# Test predictions on the Chimpanzee set which should be very similar to humans\n",
    "y_PrdChimp = classifier.predict(XChimp)\n",
    "\n",
    "from sklearn.metrics import accuracy_score, f1_score, precision_score, recall_score\n",
    "\n",
    "print(\"Predictions matrix on chimp test DNA sequence\\n\")\n",
    "print(pd.crosstab(pd.Series(yChimp, name='Actual'), pd.Series(y_PrdChimp, name='Predicted')))\n",
    "\n",
    "def get_metrics(yChimp, y_PrdChimp):\n",
    "    accuracy = accuracy_score(yChimp, y_PrdChimp)\n",
    "    precision = precision_score(yChimp, y_PrdChimp, average='weighted')\n",
    "    recall = recall_score(yChimp, y_PrdChimp, average='weighted')\n",
    "    f1 = f1_score(yChimp, y_PrdChimp, average='weighted')\n",
    "    return accuracy, precision, recall, f1\n",
    "accuracy, precision, recall, f1 = get_metrics(yChimp, y_PrdChimp)\n",
    "\n",
    "print(\"Accuracy = %.2f   Precision = %.2f  Recall = %.2f   f1 = %.2f\" % (accuracy, precision, recall, f1))"
   ]
  },
  {
   "cell_type": "code",
   "execution_count": 56,
   "metadata": {},
   "outputs": [
    {
     "data": {
      "image/png": "[encoded data removed]",
      "text/plain": [
       "<Figure size 432x288 with 1 Axes>"
      ]
     },
     "metadata": {
      "needs_background": "light"
     },
     "output_type": "display_data"
    }
   ],
   "source": [
    "plt.scatter(y_test, y_Prd, c=\"red\", marker='x', label='1')\n",
    "plt.scatter(yChimp, y_PrdChimp, c=\"blue\", marker='s', label='-1')\n",
    "plt.legend(loc='lower right')\n",
    "plt.show()"
   ]
  },
  {
   "cell_type": "markdown",
   "metadata": {},
   "source": [
    "Predictions of the humans and chimps are closer since they are related genetically."
   ]
  }
 ],
 "metadata": {
  "colab": {
   "authorship_tag": "ABX9TyM3m5J+Ps9NeX7JxhZasFeL",
   "collapsed_sections": [],
   "name": "LoadData.ipynb",
   "provenance": [],
   "toc_visible": true
  },
  "kernelspec": {
   "display_name": "Python 3",
   "language": "python",
   "name": "python3"
  },
  "language_info": {
   "codemirror_mode": {
    "name": "ipython",
    "version": 3
   },
   "file_extension": ".py",
   "mimetype": "text/x-python",
   "name": "python",
   "nbconvert_exporter": "python",
   "pygments_lexer": "ipython3",
   "version": "3.8.8"
  }
 },
 "nbformat": 4,
 "nbformat_minor": 1
}
